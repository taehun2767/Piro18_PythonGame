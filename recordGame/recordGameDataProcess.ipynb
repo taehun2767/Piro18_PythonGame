{
 "cells": [
  {
   "cell_type": "code",
   "execution_count": 1,
   "metadata": {},
   "outputs": [
    {
     "name": "stderr",
     "output_type": "stream",
     "text": [
      "/var/folders/jg/xn7ncghj3xb8_n7z5kml0yk00000gp/T/ipykernel_82497/159996195.py:20: SettingWithCopyWarning: \n",
      "A value is trying to be set on a copy of a slice from a DataFrame\n",
      "\n",
      "See the caveats in the documentation: https://pandas.pydata.org/pandas-docs/stable/user_guide/indexing.html#returning-a-view-versus-a-copy\n",
      "  data['singer'][i] = data['song'][i][2:end-1]\n"
     ]
    }
   ],
   "source": [
    "import pandas as pd\n",
    "\n",
    "#크롤링 데이터 파일 불러오기\n",
    "data = pd.read_csv(\"./singer_song_list.csv\",)\n",
    "\n",
    "# df_shuffled=data.sample(frac=1).reset_index(drop=True)\n",
    "# answer_rate = int(data.shape[0] * 0.5)\n",
    "\n",
    "#열 이름 지정\n",
    "data.columns = ['singer', 'song']\n",
    "\n",
    "#데이터 가공\n",
    "for i in range(data.shape[0]):\n",
    "  #노래 제목 없는 데이터 삭제\n",
    "  if ':' not in data['song'][i]:\n",
    "    data = data.drop(i, axis=0)\n",
    "    continue\n",
    "  #숫자로 된 singer행 노래 제목으로 바꾸기\n",
    "  end = data['song'][i].index(':')\n",
    "  data['singer'][i] = data['song'][i][2:end-1]\n",
    "  #노래 제목에서 가수 제거\n",
    "  data['song'][i] = data['song'][i][end+1:-1]\n",
    "\n",
    "#중복된 노래제목 제거\n",
    "data = data.drop_duplicates(subset='song')\n",
    "#데이터 저장\n",
    "data.to_csv(\"recordGameData.csv\")\n",
    "\n"
   ]
  }
 ],
 "metadata": {
  "kernelspec": {
   "display_name": "Python 3",
   "language": "python",
   "name": "python3"
  },
  "language_info": {
   "codemirror_mode": {
    "name": "ipython",
    "version": 3
   },
   "file_extension": ".py",
   "mimetype": "text/x-python",
   "name": "python",
   "nbconvert_exporter": "python",
   "pygments_lexer": "ipython3",
   "version": "3.9.6 (default, Aug  5 2022, 15:21:02) \n[Clang 14.0.0 (clang-1400.0.29.102)]"
  },
  "orig_nbformat": 4,
  "vscode": {
   "interpreter": {
    "hash": "31f2aee4e71d21fbe5cf8b01ff0e069b9275f58929596ceb00d14d90e3e16cd6"
   }
  }
 },
 "nbformat": 4,
 "nbformat_minor": 2
}
